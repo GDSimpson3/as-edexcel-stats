{
 "cells": [
  {
   "cell_type": "code",
   "execution_count": null,
   "id": "1bea9604-bd73-407a-9559-9aa8e49dbf00",
   "metadata": {},
   "outputs": [],
   "source": [
    "'''\n",
    "BASICALLY, There are two things here\n",
    "\n",
    "1) Census\n",
    "\n",
    "This is where u take the info from ALL of the population, Very impractical\n",
    "\n",
    "2) Sample\n",
    "\n",
    "You instead take a fair sample of ur population.\n",
    "\n",
    "Methods of Sampling: \n",
    "1) Random\n",
    "2) Nth\n",
    "3) oportunity (easiest)\n",
    "4) Quota\n",
    "5) Stratified (The one used in this example)\n",
    "'''"
   ]
  },
  {
   "cell_type": "code",
   "execution_count": 11,
   "id": "2eb6ef86-2af4-4ecb-a9f7-6905f6e9e263",
   "metadata": {},
   "outputs": [],
   "source": [
    "Data = [\n",
    "    [\"year Group\",\"No. Pupils\"],\n",
    "    [\"Year 7\",120],\n",
    "    [\"Year 8\",80],\n",
    "    [\"Year 9\",95],\n",
    "    [\"Year 10\",63],\n",
    "    [\"Year 11\",42]\n",
    "]"
   ]
  },
  {
   "cell_type": "code",
   "execution_count": 12,
   "id": "949bb1d9-f859-40a6-8555-e86097849aa9",
   "metadata": {},
   "outputs": [
    {
     "name": "stdout",
     "output_type": "stream",
     "text": [
      "[['year Group', 'No. Pupils'], ['Year 7', 120], ['Year 8', 80], ['Year 9', 95], ['Year 10', 63], ['Year 11', 42]]\n"
     ]
    }
   ],
   "source": [
    "print(Data)"
   ]
  },
  {
   "cell_type": "code",
   "execution_count": 13,
   "id": "4a216b11-d8f7-46e6-a4e0-2bf4442df974",
   "metadata": {},
   "outputs": [],
   "source": [
    "total = 0 \n",
    "for i in range(1,len(Data)): \n",
    "    total = total + Data[i][1]"
   ]
  },
  {
   "cell_type": "code",
   "execution_count": 14,
   "id": "f6903356-1c1f-466b-9517-074d736eaea1",
   "metadata": {},
   "outputs": [
    {
     "name": "stdout",
     "output_type": "stream",
     "text": [
      "400\n"
     ]
    }
   ],
   "source": [
    "print(total)"
   ]
  },
  {
   "cell_type": "code",
   "execution_count": 15,
   "id": "1e4e3c58-aca0-4971-8bde-b4a9743fac9e",
   "metadata": {},
   "outputs": [],
   "source": [
    "SampleSize = 20"
   ]
  },
  {
   "cell_type": "code",
   "execution_count": 21,
   "id": "270dbb8c-0b83-4ed8-8019-4d5b39c20d23",
   "metadata": {},
   "outputs": [
    {
     "name": "stdout",
     "output_type": "stream",
     "text": [
      "Year 7: 6.0 : 6.0 \n",
      "\n",
      "Year 8: 4.0 : 4.0 \n",
      "\n",
      "Year 9: 4.75 : 5.0 \n",
      "\n",
      "Year 10: 3.15 : 3.0 \n",
      "\n",
      "Year 11: 2.1 : 2.0 \n",
      "\n",
      "20.0\n",
      "\n",
      "\n",
      "['6.0 X Year 7', '4.0 X Year 8', '5.0 X Year 9', '3.0 X Year 10', '2.0 X Year 11']\n"
     ]
    }
   ],
   "source": [
    "# Stratifed Sampling\n",
    "\n",
    "# Category sizes that are sent to sample\n",
    "\n",
    "'''\n",
    "Size of category in sample = (Size of category in population / total size of population) * Total Sample size\n",
    "'''\n",
    "\n",
    "Sample = []\n",
    "\n",
    "SampleCount = 0\n",
    "\n",
    "for Category in range(1, len(Data)):\n",
    "    print(f\"{Data[Category][0]}: {((Data[Category][1])/(total)) * SampleSize} : {round((((Data[Category][1])/(total)) * SampleSize),0)} \\n\")\n",
    "    Sample.append(f'{round((((Data[Category][1])/(total)) * SampleSize),0)} X {Data[Category][0]}')\n",
    "    SampleCount = SampleCount + round((((Data[Category][1])/(total)) * SampleSize),0)\n",
    "\n",
    "print(SampleCount)\n",
    "print (\"\\n\")\n",
    "print(Sample)"
   ]
  }
 ],
 "metadata": {
  "kernelspec": {
   "display_name": "Python 3 (ipykernel)",
   "language": "python",
   "name": "python3"
  },
  "language_info": {
   "codemirror_mode": {
    "name": "ipython",
    "version": 3
   },
   "file_extension": ".py",
   "mimetype": "text/x-python",
   "name": "python",
   "nbconvert_exporter": "python",
   "pygments_lexer": "ipython3",
   "version": "3.11.11"
  }
 },
 "nbformat": 4,
 "nbformat_minor": 5
}

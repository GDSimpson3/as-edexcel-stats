{
 "cells": [
  {
   "cell_type": "code",
   "execution_count": null,
   "id": "87c269bb-3180-4f79-ab3f-e4d0cfe2911c",
   "metadata": {},
   "outputs": [],
   "source": [
    "'''\n",
    "The data is split into quartiles, \n",
    "q1 = 25% <= lower quartile\n",
    "q2 = Median\n",
    "q3 = 75% >= upper quartile\n",
    "\n",
    "Quartiles are calculated like median, except median uses n/2, whereas q1 uses n/4 and q3 uses 3n/4\n",
    "'''"
   ]
  },
  {
   "cell_type": "code",
   "execution_count": 47,
   "id": "896855bd-06af-40a1-a47a-62ede27ade4f",
   "metadata": {},
   "outputs": [],
   "source": [
    "data = [\n",
    "    [\"Height of Tree\", \"Class Boundaries\", \"Number of Trees ƒ\", \"Cumulative\"],\n",
    "    [\"0-5\",   [0, 5.5],    26, 26],\n",
    "    [\"6-10\",  [5.5, 10.5],    17, 43],\n",
    "    [\"11-15\", [10.5, 15.5],   11, 54],\n",
    "    [\"16-20\", [15.5, 20.5],   6, 60]\n",
    "]"
   ]
  },
  {
   "cell_type": "code",
   "execution_count": 48,
   "id": "d84275f2-d2db-4c19-9bd5-eaab3ef85203",
   "metadata": {},
   "outputs": [
    {
     "name": "stdout",
     "output_type": "stream",
     "text": [
      "Q1Position===15\n",
      "Taking Rounded Q1 Index\n",
      "Q1 is in 0-5 Class\n",
      "Q1Class====['0-5', [0, 5.5], 26, 26, 1]\n",
      "Q1 === 3.173076923076923\n"
     ]
    }
   ],
   "source": [
    "# Find Q1\n",
    "\n",
    "import math\n",
    "\n",
    "Q1Position = math.ceil(data[-1][3] / 4) # n\n",
    "\n",
    "print(f'Q1Position==={Q1Position}')\n",
    "\n",
    "# Q1 Class\n",
    "\n",
    "Q1Class = [] # Last index is used to find the one before that\n",
    "\n",
    "print(f'Taking Rounded Q1 Index')\n",
    "for Check in range(1,len(data)):\n",
    "    if Q1Position < data[Check][3]: # Check position with respects to cumulative value\n",
    "        print(f'Q1 is in {data[Check][0]} Class')\n",
    "        Q1Class = data[Check]\n",
    "        Q1Class.append(Check) # Last index is used to find the one before that\n",
    "        break\n",
    "        \n",
    "print(f'Q1Class===={Q1Class}')\n",
    "\n",
    "'''\n",
    "LINEAR INTERPOLATION VIA RATIOS\n",
    "\n",
    "b1===================\n",
    "-0.5 ----- Q1 ----- 5.5\n",
    "a1=========\n",
    "\n",
    "b2====================\n",
    "0 ----- n/4 ----- 26\n",
    "a2=========\n",
    "\n",
    "a1/b1 = a2/b2\n",
    "\n",
    "the two ratios are the same because the items are assumed to be spread out evenly throughout the whole class\n",
    "\n",
    "a1 = from Q1 class's lower bound to Q1 --> Q1 - lower bound\n",
    "b1 = from Q1 class's lower bound to Q1 class's Upper bound --> Upper bound - Lower Bound\n",
    "a2 = 0th Item to Q1 Item (position wise), Cumulative of lower class to Q1's position --> Q1 Position - cumu of Q1 -1 class\n",
    "b2 = Cumu of Q1 class -1 to Cumu of Q1 Class --> Cumu Q1 - (Cumu Q1 -1 class)\n",
    "\n",
    "Q1 - Q1Lb / Q1Ub - Q1Lb = (Q1Position - CumuQ1-1 ) / (CumuQ1 - CumuQ1-1)\n",
    "\n",
    "Q1 - aOneWithoutQ1 / bOne = aTwo / bTwo\n",
    "\n",
    "Q1 - aOneWithoutQ1 = ( aTwo / bTwo ) * bOne\n",
    "\n",
    "Q1 = ( ( aTwo / bTwo ) * bOne ) + aOneWithoutQ1\n",
    "\n",
    "'''\n",
    "\n",
    "\n",
    "\n",
    "CumuQ1Minus1 = 0\n",
    "\n",
    "if Q1Class[4] == 1:\n",
    "    #This means the Q1 class was the first class\n",
    "    CumuQ1Minus1 = 0 # Start is 0\n",
    "else:\n",
    "    CumuQ1Minus1 = data[Q1Class[4] -1][3]\n",
    "\n",
    "aOneWithoutQ1 = Q1Class[1][0]\n",
    "bOne = Q1Class[1][1] - Q1Class[1][0]\n",
    "aTwo = Q1Position -  CumuQ1Minus1 # Q1Class[4] has the index of the Q1 class, -1 is the one before that\n",
    "bTwo = Q1Class[3] -  CumuQ1Minus1\n",
    "\n",
    "# print(aTwo)\n",
    "\n",
    "Q1 = ( ( aTwo / bTwo ) * bOne ) + aOneWithoutQ1\n",
    "\n",
    "print(f'Q1 === {Q1}')"
   ]
  },
  {
   "cell_type": "code",
   "execution_count": 49,
   "id": "c48a28e9-c24d-4aeb-9f99-b1dae6b3a0dc",
   "metadata": {},
   "outputs": [
    {
     "name": "stdout",
     "output_type": "stream",
     "text": [
      "Q3Position==45\n",
      "Taking Rounded Q1 Index\n",
      "Q3 is in 11-15 Class\n",
      "Q3Class===['11-15', [10.5, 15.5], 11, 54, 3]\n",
      "Q3 === 11.40909090909091\n"
     ]
    }
   ],
   "source": [
    "# Find Q3\n",
    "\n",
    "import math\n",
    "\n",
    "Q3Position = math.ceil(3 * (data[-1][3]) / 4) # n\n",
    "\n",
    "print(f'Q3Position=={Q3Position}')\n",
    "\n",
    "# Q1 Class\n",
    "\n",
    "Q3Class = [] # Last index is used to find the one before that\n",
    "\n",
    "print(f'Taking Rounded Q1 Index')\n",
    "for Check in range(1,len(data)):\n",
    "    if Q3Position < data[Check][3]: # Check position with respects to cumulative value\n",
    "        print(f'Q3 is in {data[Check][0]} Class')\n",
    "        Q3Class = data[Check]\n",
    "        Q3Class.append(Check) # Last index is used to find the one before that\n",
    "        break\n",
    "        \n",
    "print(f'Q3Class==={Q3Class}')\n",
    "\n",
    "'''\n",
    "LINEAR INTERPOLATION VIA RATIOS\n",
    "\n",
    "b1===================\n",
    "10.5 ----- Q3 ----- 15.5\n",
    "a1=========\n",
    "\n",
    "b2====================\n",
    "43 ----- 3n/4 ----- 54\n",
    "a2=========\n",
    "\n",
    "a1/b1 = a2/b2\n",
    "\n",
    "the two ratios are the same because the items are assumed to be spread out evenly throughout the whole class\n",
    "\n",
    "a1 = from Q3 class's lower bound to Q3 --> Q3 - lower bound\n",
    "b1 = from Q3 class's lower bound to Q3 class's Upper bound --> Upper bound - Lower Bound\n",
    "a2 = 43rd Item to Q3 Item (position wise), Cumulative of lower class to Q3's position --> Q3 Position - cumu of Q3 -1 class\n",
    "b2 = Cumu of Q3 class -1 to Cumu of Q3 Class --> Cumu Q3 - (Cumu Q3 -1 class)\n",
    "\n",
    "Q3 - Q3Lb / Q3Ub - Q3Lb = (Q3Position - CumuQ3-1 ) / (CumuQ3 - CumuQ3-1)\n",
    "\n",
    "Q3 - aOneWithoutQ3 / bOne = aTwo / bTwo\n",
    "\n",
    "Q3 - aOneWithoutQ3 = ( aTwo / bTwo ) * bOne\n",
    "\n",
    "Q3 = ( ( aTwo / bTwo ) * bOne ) + aOneWithoutQ3\n",
    "\n",
    "'''\n",
    "\n",
    "\n",
    "\n",
    "CumuQ3Minus1 = data[Q3Class[4] -1][3]\n",
    "\n",
    "\n",
    "aOneWithoutQ3 = Q3Class[1][0]\n",
    "bOne = Q3Class[1][1] - Q3Class[1][0]\n",
    "aTwo = Q3Position -  CumuQ3Minus1 # Q3Class[4] has the index of the Q3 class, -1 is the one before that\n",
    "bTwo = Q3Class[3] -  CumuQ3Minus1\n",
    "\n",
    "# print(aTwo)\n",
    "\n",
    "Q3 = ( ( aTwo / bTwo ) * bOne ) + aOneWithoutQ3\n",
    "\n",
    "print(f'Q3 === {Q3}')"
   ]
  },
  {
   "cell_type": "code",
   "execution_count": 50,
   "id": "264031ad-c961-4483-adfb-c0428646d975",
   "metadata": {},
   "outputs": [
    {
     "name": "stdout",
     "output_type": "stream",
     "text": [
      "8.236013986013987\n"
     ]
    }
   ],
   "source": [
    "InterquartileRange = Q3 - Q1\n",
    "\n",
    "print(InterquartileRange)"
   ]
  }
 ],
 "metadata": {
  "kernelspec": {
   "display_name": "Python 3 (ipykernel)",
   "language": "python",
   "name": "python3"
  },
  "language_info": {
   "codemirror_mode": {
    "name": "ipython",
    "version": 3
   },
   "file_extension": ".py",
   "mimetype": "text/x-python",
   "name": "python",
   "nbconvert_exporter": "python",
   "pygments_lexer": "ipython3",
   "version": "3.11.11"
  }
 },
 "nbformat": 4,
 "nbformat_minor": 5
}

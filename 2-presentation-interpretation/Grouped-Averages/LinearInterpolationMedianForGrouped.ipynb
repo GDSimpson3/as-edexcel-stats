{
 "cells": [
  {
   "cell_type": "code",
   "execution_count": 28,
   "id": "c7a193e0-74b7-473c-b25c-4ea5f38ad922",
   "metadata": {},
   "outputs": [],
   "source": [
    "data = [\n",
    "    [\"Height of Tree\", \"Class Boundaries\", \"Number of Trees ƒ\", \"Cumulative\"],\n",
    "    [\"0-5\",   [-0.5, 5.5],    26, 26],\n",
    "    [\"6-10\",  [5.5, 10.5],    17, 43],\n",
    "    [\"11-15\", [10.5, 15.5],   11, 54],\n",
    "    [\"16-20\", [15.5, 20.5],   6, 60]\n",
    "]"
   ]
  },
  {
   "cell_type": "code",
   "execution_count": 29,
   "id": "55ba6c40-cd2b-4829-8a4e-7cdafb4b7784",
   "metadata": {},
   "outputs": [
    {
     "name": "stdout",
     "output_type": "stream",
     "text": [
      "30\n"
     ]
    }
   ],
   "source": [
    "import math\n",
    "\n",
    "medianPosition = math.ceil(data[-1][3] / 2) # n\n",
    "\n",
    "print(medianPosition)"
   ]
  },
  {
   "cell_type": "code",
   "execution_count": 30,
   "id": "b7b308a6-8217-46b3-92cf-856c2ae2c52f",
   "metadata": {},
   "outputs": [
    {
     "name": "stdout",
     "output_type": "stream",
     "text": [
      "Median is between the 30 and 31 position\n",
      "Median is in 6-10 Class\n",
      "['6-10', [5.5, 10.5], 17, 43, 2]\n"
     ]
    }
   ],
   "source": [
    "# Median Class\n",
    "\n",
    "medianClass = [] # Last index is used to find the one before that\n",
    "\n",
    "if medianPosition % 2 == 0: # is medianPosition a whole number\n",
    "    print(f'Median is between the {medianPosition} and {medianPosition + 1} position')\n",
    "    for Check in range(1,len(data)):\n",
    "        if medianPosition < data[Check][3]: # Check position with respects to cumulative value\n",
    "            print(f'Median is in {data[Check][0]} Class')\n",
    "            medianClass = data[Check]\n",
    "            medianClass.append(Check) # Last index is used to find the one before that\n",
    "\n",
    "\n",
    "            break\n",
    "            \n",
    "else:\n",
    "    print(f'Median is { math.ceil(medianPosition)}')\n",
    "    for Check in range(1,len(data)):\n",
    "        if medianPosition < data[Check][3]:\n",
    "            print(f'Median is in {data[Check][0]} Class')\n",
    "            medianClass = data[Check]\n",
    "            medianClass.append(Check) # Last index is used to find the one before that\n",
    "            \n",
    "\n",
    "            break\n",
    "print(medianClass)"
   ]
  },
  {
   "cell_type": "code",
   "execution_count": 31,
   "id": "7ba12f12-6065-429e-9f8a-87268bee0951",
   "metadata": {},
   "outputs": [
    {
     "name": "stdout",
     "output_type": "stream",
     "text": [
      "6.676470588235294\n"
     ]
    }
   ],
   "source": [
    "'''\n",
    "LINEAR INTERPOLATION VIA RATIOS\n",
    "\n",
    "b1===================\n",
    "5.5 ----- M ----- 10.5\n",
    "a1=========\n",
    "\n",
    "b2====================\n",
    "26 ----- n/2 ----- 43\n",
    "a2=========\n",
    "\n",
    "a1/b1 = a2/b2\n",
    "\n",
    "the two ratios are the same because the items are assumed to be spread out evenly throughout the whole class\n",
    "\n",
    "a1 = from Median class's lower bound to median --> Median - lower bound\n",
    "b1 = from Median class's lower bound to Median class's Upper bound --> Upper bound - Lower Bound\n",
    "a2 = 26th Item to Median Item (position wise), Cumulative of lower class to Median's position --> n/2 - cumu of median -1 class\n",
    "b2 = Cumu of median class -1 to Cumu of Median Class --> Cumu median - (Cumu Median -1 class)\n",
    "\n",
    "\n",
    "\n",
    "M - Lb / Ub - Lb = (n/2 - CumuMed-1 ) / (CumuMed - CumuMed-1)\n",
    "\n",
    "M - aOneWithoutM / bOne = aTwo / bTwo\n",
    "\n",
    "M - aOneWithoutM = ( aTwo / bTwo ) * bOne\n",
    "\n",
    "M = ( ( aTwo / bTwo ) * bOne ) + aOneWithoutM\n",
    "\n",
    "'''\n",
    "\n",
    "aOneWithoutM = medianClass[1][0]\n",
    "bOne = medianClass[1][1] - medianClass[1][0]\n",
    "aTwo = medianPosition -  data[medianClass[4] -1][3] # medianClass[4] has the index of the median class, -1 is the one before that\n",
    "bTwo = medianClass[3] -  data[medianClass[4] -1][3]\n",
    "\n",
    "# print(aTwo)\n",
    "\n",
    "Median = ( ( aTwo / bTwo ) * bOne ) + aOneWithoutM\n",
    "\n",
    "print(Median)"
   ]
  },
  {
   "cell_type": "code",
   "execution_count": 32,
   "id": "6928bdea-e567-4810-9697-2d592db57c79",
   "metadata": {},
   "outputs": [
    {
     "name": "stdout",
     "output_type": "stream",
     "text": [
      "7.176470588235294\n"
     ]
    }
   ],
   "source": [
    "# BIG FORMULA WAY !!! DIFFERENT DUE TO CLASS BOUNDARY DIFFERENCES\n",
    "\n",
    "'''\n",
    "Median = L + ( { [n/2] - f } / ƒ ) * w\n",
    "\n",
    "L=6 (lower boundary of median class)\n",
    "\n",
    "F=26 (cumulative frequency before the class)\n",
    "\n",
    "ƒ=17 (frequency of the median class)\n",
    "\n",
    "w=5 (median class width)\n",
    "\n",
    "'''\n",
    "\n",
    "L=6 # (lower boundary of median class)\n",
    "\n",
    "f=26 # (cumulative frequency before the class)\n",
    "\n",
    "ƒ=17 # (frequency of the median class)\n",
    "\n",
    "w=5 # (median class width)\n",
    "\n",
    "n=60 # Total Frequency\n",
    "\n",
    "Median = L + ( ( (n/2) - f ) / ƒ ) * w\n",
    "\n",
    "print(Median)"
   ]
  }
 ],
 "metadata": {
  "kernelspec": {
   "display_name": "Python 3 (ipykernel)",
   "language": "python",
   "name": "python3"
  },
  "language_info": {
   "codemirror_mode": {
    "name": "ipython",
    "version": 3
   },
   "file_extension": ".py",
   "mimetype": "text/x-python",
   "name": "python",
   "nbconvert_exporter": "python",
   "pygments_lexer": "ipython3",
   "version": "3.11.11"
  }
 },
 "nbformat": 4,
 "nbformat_minor": 5
}

{
 "cells": [
  {
   "cell_type": "code",
   "execution_count": 1,
   "id": "8fad19da-8cc1-4d80-aeab-29d1ec8c4ada",
   "metadata": {},
   "outputs": [],
   "source": [
    "data =[\n",
    "    [\"Height of Tree to nearest M\", \"Class Midpoint (x)\",\"Number of Trees ƒ\",\"ƒx\"],\n",
    "    [\"0-5\",2.75,26,71.5],\n",
    "    [\"6-10\",8,17,136],\n",
    "    [\"11-15\",13,11,143],\n",
    "    [\"16-20\",18,6,108]\n",
    "]\n",
    "\n",
    "# Class midpoint = (Lower class boundary + Upper class boundary) / 2\n",
    "# EG: (0 + 5.5) /2 = 2.75"
   ]
  },
  {
   "cell_type": "code",
   "execution_count": 2,
   "id": "e729d06b-cbb6-47d2-9715-45093d891380",
   "metadata": {},
   "outputs": [
    {
     "name": "stdout",
     "output_type": "stream",
     "text": [
      "['0-5', 2.75, 26, 71.5]\n"
     ]
    }
   ],
   "source": [
    "# Mode\n",
    "mode = [0,0,0,0]\n",
    "for classItem in range(1,len(data)): # Dodge 0 cause it's header class\n",
    "    if data[classItem][2] > mode[2]:\n",
    "        mode = data[classItem]\n",
    "\n",
    "print(mode)"
   ]
  },
  {
   "cell_type": "code",
   "execution_count": 6,
   "id": "0e5f60bb-98ee-4f90-a291-810135c7ebbe",
   "metadata": {},
   "outputs": [
    {
     "name": "stdout",
     "output_type": "stream",
     "text": [
      "458.5\n",
      "60\n",
      "7.641666666666667\n"
     ]
    }
   ],
   "source": [
    "# Mean\n",
    "# mean = ∑ƒx / ∑ƒ\n",
    "\n",
    "# ∑ƒx\n",
    "SumFX = 0\n",
    "\n",
    "for classItem in range(1,len(data)):\n",
    "    SumFX = SumFX + data[classItem][3]\n",
    "\n",
    "print(SumFX)\n",
    "\n",
    "# ∑ƒ\n",
    "SumF = 0\n",
    "\n",
    "for classItem in range(1,len(data)):\n",
    "    SumF = SumF + data[classItem][2]\n",
    "\n",
    "print(SumF)\n",
    "\n",
    "Mean = SumFX / SumF\n",
    "\n",
    "print(Mean)"
   ]
  }
 ],
 "metadata": {
  "kernelspec": {
   "display_name": "Python 3 (ipykernel)",
   "language": "python",
   "name": "python3"
  },
  "language_info": {
   "codemirror_mode": {
    "name": "ipython",
    "version": 3
   },
   "file_extension": ".py",
   "mimetype": "text/x-python",
   "name": "python",
   "nbconvert_exporter": "python",
   "pygments_lexer": "ipython3",
   "version": "3.11.11"
  }
 },
 "nbformat": 4,
 "nbformat_minor": 5
}

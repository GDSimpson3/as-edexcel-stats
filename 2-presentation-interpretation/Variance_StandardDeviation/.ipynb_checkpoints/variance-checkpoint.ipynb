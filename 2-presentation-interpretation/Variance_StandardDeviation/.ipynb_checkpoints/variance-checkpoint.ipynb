{
 "cells": [
  {
   "cell_type": "code",
   "execution_count": null,
   "id": "2104126a-96b3-48b1-8f99-f3f5bc94983e",
   "metadata": {},
   "outputs": [],
   "source": [
    "'''\n",
    "\n",
    "variance = ( ∑ (x^2) / n ) - mean^2\n",
    "\n",
    "variance = ( ∑(Data - mean)^2 ) / n\n",
    "\n",
    "(1st formula is better)\n",
    "\n",
    "standard Deviation = (variance).sqrt()\n",
    "\n",
    "'''"
   ]
  },
  {
   "cell_type": "code",
   "execution_count": 8,
   "id": "38203864-c32a-4ae6-a751-3eadea6e3db4",
   "metadata": {},
   "outputs": [
    {
     "name": "stdout",
     "output_type": "stream",
     "text": [
      "∑x = 42\n",
      "n = 7\n",
      "Mean = 6.0\n",
      "∑X^2 = 346\n",
      "Variance = 13.42857142857143\n",
      "StandardDeviation = 3.6645015252516173\n"
     ]
    }
   ],
   "source": [
    "data1 = [2,3,4,4,6,11,12]\n",
    "\n",
    "SumX = 0\n",
    "for X in data1:\n",
    "    SumX = SumX + X\n",
    "print(f'∑x = {SumX}')\n",
    "\n",
    "n = len(data1)\n",
    "print(f'n = {n}')\n",
    "\n",
    "Mean = SumX / n\n",
    "print(f'Mean = {Mean}')\n",
    "\n",
    "SumX2 = 0\n",
    "for X in data1:\n",
    "    SumX2 = SumX2 + (X**2)\n",
    "print(f'∑X^2 = {SumX2}')\n",
    "\n",
    "\n",
    "# Variance = ( ∑ (x^2) / n ) - mean^2\n",
    "\n",
    "Variance = (SumX2 / n) - (Mean**2)\n",
    "print(f'Variance = {Variance}')\n",
    "\n",
    "import math\n",
    "\n",
    "StandardDeviation = math.sqrt(Variance)\n",
    "\n",
    "print(f'StandardDeviation = {StandardDeviation}')"
   ]
  },
  {
   "cell_type": "code",
   "execution_count": 11,
   "id": "2cbe9519-14bd-4f4b-aade-a47ec7300385",
   "metadata": {},
   "outputs": [
    {
     "name": "stdout",
     "output_type": "stream",
     "text": [
      "SumFX = 72\n",
      "SumF = 18\n",
      "Mean == 4.0\n",
      "SumFXX = 318\n",
      "Variance == 1.6666666666666679\n",
      "S.D == 1.290994448735806\n"
     ]
    }
   ],
   "source": [
    "'''\n",
    "FOR FREQUENCY TABLES\n",
    "\n",
    "variance =   ∑ ( ƒx^2 ) / ∑ƒ  - mean^2\n",
    "\n",
    "NOTE: Not (ƒx)^2 but ƒxx\n",
    "'''\n",
    "import math\n",
    "\n",
    "data2 = [\n",
    "    [\"x\", 2,3,4,5,6,7],\n",
    "    ['ƒ',2,5,5,4,1,1],\n",
    "    ['ƒx',4,15,20,20,6,7]\n",
    "]\n",
    "\n",
    "SumFX = 0\n",
    "for Value in range(1,len(data2[0])):\n",
    "    SumFX = SumFX + (data2[0][Value] * data2[1][Value])\n",
    "print(f'SumFX = {SumFX}')\n",
    "\n",
    "SumF = 0\n",
    "for Value in range(1,len(data2[1])):\n",
    "    SumF = SumF + (data2[1][Value])\n",
    "print(f'SumF = {SumF}')\n",
    "\n",
    "Mean = SumFX / SumF\n",
    "print(f'Mean == {Mean}')\n",
    "\n",
    "SumFXX = 0\n",
    "for Value in range(1,len(data2[0])):\n",
    "    SumFXX = SumFXX + (data2[1][Value] * data2[0][Value] * data2[0][Value])\n",
    "print(f'SumFXX = {SumFXX}')\n",
    "\n",
    "\n",
    "# variance =   ∑ ( ƒx^2 ) / ∑ƒ  - mean^2\n",
    "\n",
    "Variance = ( SumFXX / SumF ) - (Mean**2)\n",
    "\n",
    "print(f'Variance == {Variance}')\n",
    "\n",
    "SD = math.sqrt(Variance)\n",
    "\n",
    "print(f'S.D == {SD}')"
   ]
  },
  {
   "cell_type": "code",
   "execution_count": 17,
   "id": "f9e56a91-6cb4-4f91-beed-9377fc886052",
   "metadata": {},
   "outputs": [
    {
     "name": "stdout",
     "output_type": "stream",
     "text": [
      "[['Height, H', [150, 170], [170, 190], [190, 210], [210, 230]], ['Frequency, ƒ', 5, 10, 12, 3], ['Class MidPoints, X', 160.0, 180.0, 200.0, 220.0]]\n",
      "SumF = 30\n",
      "SumFX = 5660.0\n",
      "Mean == 188.66666666666666\n",
      "SumFXX = 1077200.0\n",
      "Variance == 311.55555555555475\n",
      "S.D == 17.650936393164947\n"
     ]
    }
   ],
   "source": [
    "'''\n",
    "For Grouped Frequency, you can assume that each data value is the class midpoint\n",
    "'''\n",
    "data3 = [\n",
    "    ['Height, H', [150,170], [170,190],[190,210], [210,230]],\n",
    "    ['Frequency, ƒ', 5,10,12,3],\n",
    "]\n",
    "\n",
    "# Class Midpoint\n",
    "MidpointArr = ['Class MidPoints, X']\n",
    "\n",
    "for ClassItem in range(1,len(data3[0])):\n",
    "    Midpoint = (data3[0][ClassItem][0] + data3[0][ClassItem][1]) / 2\n",
    "    MidpointArr.append(Midpoint)\n",
    "    \n",
    "data3.append(MidpointArr)\n",
    "\n",
    "print(data3)\n",
    "\n",
    "SumF = 0\n",
    "for Value in range(1,len(data3[1])):\n",
    "    SumF = SumF + (data3[1][Value])\n",
    "print(f'SumF = {SumF}')\n",
    "\n",
    "SumFX = 0\n",
    "for Value in range(1,len(data3[1])):\n",
    "    SumFX = SumFX + (data3[1][Value] * data3[2][Value])\n",
    "print(f'SumFX = {SumFX}')\n",
    "\n",
    "Mean = SumFX / SumF\n",
    "print(f'Mean == {Mean}')\n",
    "\n",
    "SumFXX = 0\n",
    "for Value in range(1,len(data3[0])):\n",
    "    SumFXX = SumFXX + (data3[1][Value] * data3[2][Value] * data3[2][Value])\n",
    "print(f'SumFXX = {SumFXX}')\n",
    "\n",
    "\n",
    "Variance = ( SumFXX / SumF ) - (Mean**2)\n",
    "\n",
    "print(f'Variance == {Variance}')\n",
    "\n",
    "SD = math.sqrt(Variance)\n",
    "\n",
    "print(f'S.D == {SD}')"
   ]
  },
  {
   "cell_type": "code",
   "execution_count": 18,
   "id": "ddb046e4-cfe5-4cac-a4e0-da90757fc09f",
   "metadata": {},
   "outputs": [
    {
     "name": "stdout",
     "output_type": "stream",
     "text": [
      "UpperFence == 241.6194758461615\n",
      "LowerFence == 135.71385748717182\n"
     ]
    }
   ],
   "source": [
    "'''\n",
    "OUTLIERS\n",
    "\n",
    "x < mean - 3 S.Ds\n",
    "x > mean + 3 S.Ds\n",
    "'''\n",
    "\n",
    "# Outliers of Dataset 3\n",
    "\n",
    "UpperFence = Mean + (3*SD)\n",
    "LowerFence = Mean - (3*SD)\n",
    "\n",
    "print(f'UpperFence == {UpperFence}')\n",
    "print(f'LowerFence == {LowerFence}')"
   ]
  }
 ],
 "metadata": {
  "kernelspec": {
   "display_name": "Python 3 (ipykernel)",
   "language": "python",
   "name": "python3"
  },
  "language_info": {
   "codemirror_mode": {
    "name": "ipython",
    "version": 3
   },
   "file_extension": ".py",
   "mimetype": "text/x-python",
   "name": "python",
   "nbconvert_exporter": "python",
   "pygments_lexer": "ipython3",
   "version": "3.11.11"
  }
 },
 "nbformat": 4,
 "nbformat_minor": 5
}

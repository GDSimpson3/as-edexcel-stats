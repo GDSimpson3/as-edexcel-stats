{
 "cells": [
  {
   "cell_type": "code",
   "execution_count": 40,
   "id": "a40eda3d-c907-499c-9916-a597d78cb226",
   "metadata": {},
   "outputs": [],
   "source": [
    "data = [2,6,2,5,9,3,8,7,2,3]"
   ]
  },
  {
   "cell_type": "code",
   "execution_count": 41,
   "id": "c3669df3-1014-4dbf-8cb4-95e3662a0f2b",
   "metadata": {},
   "outputs": [
    {
     "name": "stdout",
     "output_type": "stream",
     "text": [
      "[[2, 3], [6, 1], [5, 1], [9, 1], [3, 2], [8, 1], [7, 1]]\n"
     ]
    }
   ],
   "source": [
    "# MODE\n",
    "\n",
    "Count = [\n",
    "    \n",
    "]\n",
    "\n",
    "for Item in data:\n",
    "    # print(f'ITEM::::{Item}')\n",
    "    \n",
    "    NewEntrant = False # Add a new Record in Count\n",
    "    \n",
    "    if len(Count) == 0:\n",
    "        Count.append([Item,1])\n",
    "        # print('First')\n",
    "        continue # Stop after initialising Count\n",
    "        \n",
    "    for Reg in Count:\n",
    "        # print(f\"REGISTERED ITEM {Reg[0]}\")\n",
    "        # print(f\"***COMPARE REGISTERED {Reg[0]} == ITEM {Item}\")\n",
    "        \n",
    "        if Reg[0] == Item:\n",
    "            Reg[1] = Reg[1] + 1\n",
    "            # print(f'ADD ONE TO RECORD FOR {Reg[0]}')\n",
    "            # print(Count)\n",
    "            NewEntrant = False\n",
    "\n",
    "            break\n",
    "            \n",
    "        else:\n",
    "            NewEntrant = True\n",
    "\n",
    "    \n",
    "    if NewEntrant == True:\n",
    "        Count.append([Item,1])\n",
    "        # print(Count , '\\n')\n",
    "\n",
    "    \n",
    "print(Count)"
   ]
  },
  {
   "cell_type": "code",
   "execution_count": 42,
   "id": "be6e91e8-3473-4c80-87a8-ea6f194dc587",
   "metadata": {},
   "outputs": [
    {
     "name": "stdout",
     "output_type": "stream",
     "text": [
      "[2, 3]\n"
     ]
    }
   ],
   "source": [
    "# Mode == one with most occurances\n",
    "\n",
    "Highest = [0,0]\n",
    "\n",
    "for Item in Count:\n",
    "    if Item[1] > Highest[1]:\n",
    "        Highest = Item\n",
    "\n",
    "print(Highest)"
   ]
  },
  {
   "cell_type": "code",
   "execution_count": 45,
   "id": "24908141-cb1d-4db4-8768-7113289792b4",
   "metadata": {},
   "outputs": [
    {
     "name": "stdout",
     "output_type": "stream",
     "text": [
      "[2, 2, 2, 3, 3, 5, 6, 7, 8, 9]\n"
     ]
    }
   ],
   "source": [
    "# Sort Array\n",
    "\n",
    "data = [2,6,2,5,9,3,8,7,2,3]\n",
    "\n",
    "data.sort()\n",
    "\n",
    "print(data)"
   ]
  },
  {
   "cell_type": "code",
   "execution_count": 46,
   "id": "55f5097d-fd7a-4033-a029-7b5014d063ab",
   "metadata": {},
   "outputs": [
    {
     "name": "stdout",
     "output_type": "stream",
     "text": [
      "Median == 5\n"
     ]
    }
   ],
   "source": [
    "# Median = n/2th position (rounded Up)\n",
    "\n",
    "import math\n",
    "\n",
    "nByTwo = math.ceil(len(data) / 2)\n",
    "\n",
    "print(f'Median == {data[nByTwo]}')"
   ]
  },
  {
   "cell_type": "code",
   "execution_count": null,
   "id": "3d9e2e02-2e46-4203-a465-9e65b3305a64",
   "metadata": {},
   "outputs": [],
   "source": [
    "# OF GROUPED DATA"
   ]
  },
  {
   "cell_type": "code",
   "execution_count": 2,
   "id": "f09ee711-7b59-42d2-a20b-7a32788c5da9",
   "metadata": {},
   "outputs": [],
   "source": [
    "dataSet = [\n",
    "    [\"Number of Letters\",\"Number of Houses\",\"Cumulative\"],\n",
    "    [0,11,11],\n",
    "    [1,25,36],\n",
    "    [2,27,63],\n",
    "    [3,21,84]\n",
    "]"
   ]
  },
  {
   "cell_type": "code",
   "execution_count": 3,
   "id": "db32faa0-7730-4174-bff1-1ba58632397d",
   "metadata": {},
   "outputs": [
    {
     "name": "stdout",
     "output_type": "stream",
     "text": [
      "[2, 27, 63]\n"
     ]
    }
   ],
   "source": [
    "# MODE\n",
    "mode = [0,0,0]\n",
    "for item in range(1,len(dataSet)):\n",
    "    if dataSet[item][1] > mode[1]:\n",
    "        mode = dataSet[item]\n",
    "\n",
    "print(mode)"
   ]
  },
  {
   "cell_type": "code",
   "execution_count": 4,
   "id": "c747bc18-1320-4313-972e-609045a28efb",
   "metadata": {},
   "outputs": [
    {
     "name": "stdout",
     "output_type": "stream",
     "text": [
      "Median is between the 42.0 and 43.0 position\n",
      "Median is in 2 Class\n"
     ]
    }
   ],
   "source": [
    "# MEDIAN\n",
    "\n",
    "import math\n",
    "\n",
    "n = dataSet[-1][2] / 2\n",
    "\n",
    "if n % 2 == 0:\n",
    "    print(f'Median is between the {n} and {n + 1} position')\n",
    "    for Check in range(1,len(dataSet)):\n",
    "        if n < dataSet[Check][2]:\n",
    "            print(f'Median is in {dataSet[Check][0]} Class')\n",
    "            break\n",
    "            \n",
    "else:\n",
    "    print(f'Median is { math.ceil(n)}')\n",
    "    for Check in range(1,len(dataSet)):\n",
    "        if n < dataSet[Check][2]:\n",
    "            print(f'Median is in {dataSet[Check][0]} Class')\n",
    "            break\n",
    "\n",
    "\n"
   ]
  }
 ],
 "metadata": {
  "kernelspec": {
   "display_name": "Python 3 (ipykernel)",
   "language": "python",
   "name": "python3"
  },
  "language_info": {
   "codemirror_mode": {
    "name": "ipython",
    "version": 3
   },
   "file_extension": ".py",
   "mimetype": "text/x-python",
   "name": "python",
   "nbconvert_exporter": "python",
   "pygments_lexer": "ipython3",
   "version": "3.11.11"
  }
 },
 "nbformat": 4,
 "nbformat_minor": 5
}

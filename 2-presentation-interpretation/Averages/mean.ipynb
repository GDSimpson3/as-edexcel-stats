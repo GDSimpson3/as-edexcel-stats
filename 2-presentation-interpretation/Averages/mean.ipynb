{
 "cells": [
  {
   "cell_type": "code",
   "execution_count": 6,
   "id": "447ba5b7-bad3-42b2-ad95-c8789622c413",
   "metadata": {},
   "outputs": [],
   "source": [
    "data = [2,3,6,2,5,9,3,8,7,2]"
   ]
  },
  {
   "cell_type": "code",
   "execution_count": 8,
   "id": "a991da5d-952d-44c4-8f2a-8fbb06316cb8",
   "metadata": {},
   "outputs": [],
   "source": [
    "# m = ∑x / n\n",
    "# m = ∑ƒx / ∑ƒ"
   ]
  },
  {
   "cell_type": "code",
   "execution_count": 7,
   "id": "34a9064a-5347-4fb0-aba5-a4dd9d916d8d",
   "metadata": {},
   "outputs": [],
   "source": [
    "SummationX = 0\n",
    "\n",
    "for item in data:\n",
    "    SummationX = SummationX + item"
   ]
  },
  {
   "cell_type": "code",
   "execution_count": 9,
   "id": "a4fa484c-8a37-429e-8201-509b4ff1ba1f",
   "metadata": {},
   "outputs": [],
   "source": [
    "n = len(data)"
   ]
  },
  {
   "cell_type": "code",
   "execution_count": 10,
   "id": "244cfd48-c265-48a8-bce3-1418b09b8321",
   "metadata": {},
   "outputs": [
    {
     "name": "stdout",
     "output_type": "stream",
     "text": [
      "mean: 4.7\n"
     ]
    }
   ],
   "source": [
    "mean = SummationX / n\n",
    "print(f'mean: {mean}')"
   ]
  },
  {
   "cell_type": "code",
   "execution_count": 11,
   "id": "ab5d2487-cc43-4937-8d1e-20eb6a268c86",
   "metadata": {},
   "outputs": [],
   "source": [
    "dataTwo = [\n",
    "    [\"Number of Eggs (x)\", 2,3,4,5,6,\"Total\"],\n",
    "    [\"Number of Nests (ƒ)\",4,9,16,8,3,40],\n",
    "]"
   ]
  },
  {
   "cell_type": "code",
   "execution_count": 23,
   "id": "b0f037e2-b2ce-41ae-863c-c35fdb5ec169",
   "metadata": {},
   "outputs": [
    {
     "name": "stdout",
     "output_type": "stream",
     "text": [
      "['ƒx', 8, 27, 64, 40, 18, 157]\n"
     ]
    }
   ],
   "source": [
    "# Calculate ƒx\n",
    "fx = [\"ƒx\"]\n",
    "Summationfx = 0\n",
    "for x in range(1,len(dataTwo[0]) - 1):\n",
    "    fx.append(dataTwo[0][x] * dataTwo[1][x])\n",
    "    Summationfx = Summationfx + (dataTwo[0][x] * dataTwo[1][x])\n",
    "\n",
    "fx.append(Summationfx)\n",
    "\n",
    "print(fx)\n",
    "\n",
    "dataTwo.append(fx)"
   ]
  },
  {
   "cell_type": "code",
   "execution_count": 25,
   "id": "5c4a8fc0-9b4f-4205-b2fd-f24b39a971dc",
   "metadata": {},
   "outputs": [
    {
     "name": "stdout",
     "output_type": "stream",
     "text": [
      "3.925\n"
     ]
    }
   ],
   "source": [
    "'''\n",
    "dataTwo = [\n",
    "    [\"Number of Eggs (x)\", 2,3,4,5,6,\"Total\"],\n",
    "    [\"Number of Nests (ƒ)\",4,9,16,8,3,40],\n",
    "    ['ƒx', 8, 27, 64, 40, 18, 157],\n",
    "]\n",
    "\n",
    "dataTwo[2][len(dataTwo[2]) - 1] == dataTwo[2][End of This sub array]\n",
    "dataTwo[1][len(dataTwo[1]) - 1] == dataTwo[1][End of This sub array]\n",
    "\n",
    "Note: End of sub arrays could be the same due to the DataStructure's Regular shape\n",
    "\n",
    "\n",
    "'''\n",
    "\n",
    "mean = dataTwo[2][len(dataTwo[2]) - 1] / dataTwo[1][len(dataTwo[1]) - 1]\n",
    "\n",
    "print(mean)"
   ]
  },
  {
   "cell_type": "code",
   "execution_count": 26,
   "id": "0276fe3a-cb6c-4ac9-9239-0bace18eab7b",
   "metadata": {},
   "outputs": [
    {
     "name": "stdout",
     "output_type": "stream",
     "text": [
      "10.257142857142856\n"
     ]
    }
   ],
   "source": [
    "'''\n",
    "Combined Mean:\n",
    "\n",
    "Combined Mean = [ (Length of Array 1 * Mean of Array 1) + (Length of Array 2 * Mean of Array 2) ] / [ Length of Array 1 + Lenght of Array 2 ]\n",
    "'''\n",
    "\n",
    "LengthA1 = 5\n",
    "LengthA2 = 2\n",
    "MeanA1 = 5.38\n",
    "MeanA2 = 22.45\n",
    "\n",
    "CombinedMean = ( (LengthA1 * MeanA1) + (LengthA2 * MeanA2) ) / (LengthA1 + LengthA2)\n",
    "\n",
    "print(CombinedMean)"
   ]
  }
 ],
 "metadata": {
  "kernelspec": {
   "display_name": "Python 3 (ipykernel)",
   "language": "python",
   "name": "python3"
  },
  "language_info": {
   "codemirror_mode": {
    "name": "ipython",
    "version": 3
   },
   "file_extension": ".py",
   "mimetype": "text/x-python",
   "name": "python",
   "nbconvert_exporter": "python",
   "pygments_lexer": "ipython3",
   "version": "3.11.11"
  }
 },
 "nbformat": 4,
 "nbformat_minor": 5
}
